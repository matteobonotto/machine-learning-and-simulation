{
 "cells": [
  {
   "attachments": {},
   "cell_type": "markdown",
   "metadata": {},
   "source": [
    "# Neural Network learns sine function using autodiff in JAX"
   ]
  },
  {
   "attachments": {},
   "cell_type": "markdown",
   "metadata": {},
   "source": [
    "<img src=\"https://upload.wikimedia.org/wikipedia/commons/8/86/Google_JAX_logo.svg\" width=150 />"
   ]
  },
  {
   "attachments": {},
   "cell_type": "markdown",
   "metadata": {},
   "source": [
    "This jupyter notebook intends to be a hands-on tutorial for the implementation of a simple Multi-Layer Perceptron (MLP) trained by plain gradient descent with derivative information given by (reverse-mode) automatic differentiation. The neural network is trained to mimic the sin function from data.\n",
    "\n",
    "Simplifications:\n",
    "- No train-val-test split\n",
    "- No regularization\n",
    "- No Stochastic Minibatching\n",
    "- Simple Gradient Descent with constant learning rate\n",
    "- No training modifications"
   ]
  },
  {
   "attachments": {},
   "cell_type": "markdown",
   "metadata": {},
   "source": [
    "Given:\n",
    "\n",
    "- $x \\in \\Re^{N \\times 1}$ and $y \\in \\Re^{N \\times 1}$ (N pairs of (x, y) samples that somehow follow a sine curve)\n",
    "- weight matrices and biases with the correct shapes\n",
    "- sigmoid activation function $\\sigma(x) = \\frac{1}{1 + e^{-x}}$\n",
    "\n",
    "\n",
    "Notice the convention of the data matrices being batch x spatial. As such, weight matrices have to be right-multiplied in order to affect the spatial dimensions."
   ]
  },
  {
   "attachments": {},
   "cell_type": "markdown",
   "metadata": {},
   "source": [
    "## Forward Pass\n",
    "\n",
    "$$\n",
    "\\begin{aligned}\n",
    "y_1 &= x \\cdot W_1\n",
    "\\\\\n",
    "\\tilde{y}_1 &= y_1 + b_1\n",
    "\\\\\n",
    "\\hat{y}_1 &= \\sigma(\\tilde{y}_1)\n",
    "\\end{aligned}\n",
    "$$\n",
    "\n",
    "$$\n",
    "\\begin{aligned}\n",
    "y_2 &= \\hat{y}_1 \\cdot W_2\n",
    "\\\\\n",
    "\\tilde{y}_2 &= y_2 + b_2\n",
    "\\\\\n",
    "\\hat{y}_2 &= \\sigma(\\tilde{y}_2)\n",
    "\\end{aligned}\n",
    "$$\n",
    "\n",
    "$$\n",
    "\\begin{aligned}\n",
    "y_3 &= \\hat{y}_2 \\cdot W_3\n",
    "\\\\\n",
    "\\tilde{y}_3 &= y_3 + b_3\n",
    "\\\\\n",
    "\\hat{y}_3 &= \\sigma(\\tilde{y}_3)\n",
    "\\end{aligned}\n",
    "$$\n",
    "\n",
    "$$\n",
    "\\begin{aligned}\n",
    "y_4 &= \\hat{y}_3 \\cdot W_4\n",
    "\\\\\n",
    "\\tilde{y}_4 &= y_4 + b_4\n",
    "\\\\\n",
    "\\hat{y}_4 &= I(\\tilde{y}_3)\n",
    "\\end{aligned}\n",
    "$$\n",
    "\n",
    "$$\n",
    "L = \\frac{1}{2} \\text{mean\\_over\\_all\\_axes}((\\hat{y}_4 - y)^2)\n",
    "$$"
   ]
  },
  {
   "attachments": {},
   "cell_type": "markdown",
   "metadata": {},
   "source": [
    "### Weight Initiliazation\n",
    "\n",
    "(Xavier Glorot Uniform init)\n",
    "\n",
    "$$\n",
    "\\begin{aligned}\n",
    "W_{i,kl} &\\propto \\mathcal{U}(-lim, lim)\n",
    "\\\\\n",
    "lim &= \\sqrt{\\frac{6}{\\text{fan\\_in}_i + \\text{fan\\_out}_i}}\n",
    "\\\\\n",
    "b_{i,k} &= 0\n",
    "\\end{aligned}\n",
    "$$"
   ]
  },
  {
   "attachments": {},
   "cell_type": "markdown",
   "metadata": {},
   "source": [
    "### Learning:\n",
    "\n",
    "Approximately solve a non-convex optimization problem in the parameter space from a randomized initial estimate.\n",
    "\n",
    "1. Initialize weights and biases\n",
    "2. Run forward pass, but through a JAX transformation that also yields a gradient (here for all samples together - no minibatching)\n",
    "3. Update each parameter with its gradient, e.g., $W_1 \\leftarrow W_1 - \\eta \\bar{W}_1$\n",
    "4. Repeat until loss is sufficiently decreased"
   ]
  },
  {
   "cell_type": "code",
   "execution_count": 1,
   "metadata": {},
   "outputs": [],
   "source": [
    "import jax\n",
    "import jax.numpy as jnp\n",
    "import matplotlib.pyplot as plt"
   ]
  },
  {
   "cell_type": "code",
   "execution_count": 2,
   "metadata": {},
   "outputs": [],
   "source": [
    "N_SAMPLES = 200\n",
    "LAYERS = [1, 10, 10, 10, 1]\n",
    "LEARNING_RATE = 0.1\n",
    "N_EPOCHS = 30_000"
   ]
  },
  {
   "cell_type": "code",
   "execution_count": 3,
   "metadata": {},
   "outputs": [
    {
     "name": "stderr",
     "output_type": "stream",
     "text": [
      "No GPU/TPU found, falling back to CPU. (Set TF_CPP_MIN_LOG_LEVEL=0 and rerun for more info.)\n"
     ]
    }
   ],
   "source": [
    "key = jax.random.PRNGKey(42)"
   ]
  },
  {
   "cell_type": "code",
   "execution_count": 4,
   "metadata": {},
   "outputs": [],
   "source": [
    "key, xkey, ynoisekey = jax.random.split(key, 3)\n",
    "x_samples = jax.random.uniform(xkey, (N_SAMPLES, 1), minval=0.0, maxval=2 * jnp.pi)\n",
    "y_samples = jnp.sin(x_samples) + jax.random.normal(ynoisekey, (N_SAMPLES, 1)) * 0.3"
   ]
  },
  {
   "cell_type": "code",
   "execution_count": 5,
   "metadata": {},
   "outputs": [
    {
     "data": {
      "text/plain": [
       "<matplotlib.collections.PathCollection at 0x7f3a704b73d0>"
      ]
     },
     "execution_count": 5,
     "metadata": {},
     "output_type": "execute_result"
    },
    {
     "data": {
      "image/png": "[encoded data removed]",
      "text/plain": [
       "<Figure size 640x480 with 1 Axes>"
      ]
     },
     "metadata": {},
     "output_type": "display_data"
    }
   ],
   "source": [
    "plt.scatter(x_samples, y_samples)"
   ]
  },
  {
   "cell_type": "code",
   "execution_count": 6,
   "metadata": {},
   "outputs": [],
   "source": [
    "# Weight initiliazation\n",
    "weight_matrices = []\n",
    "bias_vectors = []\n",
    "activation_functions = []\n",
    "\n",
    "for (fan_in, fan_out) in zip(LAYERS[:-1], LAYERS[1:]):\n",
    "    kernel_matrix_uniform_limit = jnp.sqrt(6 / (fan_in + fan_out))\n",
    "\n",
    "    key, wkey = jax.random.split(key)\n",
    "\n",
    "    W = jax.random.uniform(\n",
    "        wkey,\n",
    "        (fan_in, fan_out),\n",
    "        minval=-kernel_matrix_uniform_limit,\n",
    "        maxval=+kernel_matrix_uniform_limit,\n",
    "    )\n",
    "\n",
    "    b = jnp.zeros(fan_out)\n",
    "\n",
    "    weight_matrices.append(W)\n",
    "    bias_vectors.append(b)\n",
    "    activation_functions.append(jax.nn.sigmoid)\n",
    "\n",
    "activation_functions[-1] = lambda x: x"
   ]
  },
  {
   "cell_type": "code",
   "execution_count": 7,
   "metadata": {},
   "outputs": [],
   "source": [
    "def network_forward(x, weights, biases, activations):\n",
    "    a = x\n",
    "\n",
    "    for W, b, f in zip(\n",
    "        weights,\n",
    "        biases,\n",
    "        activations,\n",
    "    ):\n",
    "        a = f(a @ W + b)\n",
    "    \n",
    "    return a"
   ]
  },
  {
   "cell_type": "code",
   "execution_count": 8,
   "metadata": {},
   "outputs": [
    {
     "data": {
      "text/plain": [
       "<matplotlib.collections.PathCollection at 0x7f3a682532e0>"
      ]
     },
     "execution_count": 8,
     "metadata": {},
     "output_type": "execute_result"
    },
    {
     "data": {
      "image/png": "[encoded data removed]",
      "text/plain": [
       "<Figure size 640x480 with 1 Axes>"
      ]
     },
     "metadata": {},
     "output_type": "display_data"
    }
   ],
   "source": [
    "plt.scatter(x_samples, y_samples)\n",
    "plt.scatter(x_samples, network_forward(x_samples, weight_matrices, bias_vectors, activation_functions))"
   ]
  },
  {
   "cell_type": "code",
   "execution_count": 9,
   "metadata": {},
   "outputs": [],
   "source": [
    "def loss_forward(y_guess, y_ref):\n",
    "    delta = y_guess - y_ref\n",
    "    return 0.5 * jnp.mean(delta**2)"
   ]
  },
  {
   "cell_type": "code",
   "execution_count": 10,
   "metadata": {},
   "outputs": [
    {
     "data": {
      "text/plain": [
       "Array(0.3169261, dtype=float32)"
      ]
     },
     "execution_count": 10,
     "metadata": {},
     "output_type": "execute_result"
    }
   ],
   "source": [
    "loss_forward(\n",
    "    network_forward(x_samples, weight_matrices, bias_vectors, activation_functions),\n",
    "    y_samples\n",
    ")"
   ]
  },
  {
   "cell_type": "code",
   "execution_count": 13,
   "metadata": {},
   "outputs": [],
   "source": [
    "loss_and_grad_fun = jax.value_and_grad(\n",
    "    lambda Ws, bs: loss_forward(\n",
    "        network_forward(\n",
    "            x_samples,\n",
    "            Ws,\n",
    "            bs,\n",
    "            activation_functions,\n",
    "        ),\n",
    "        y_samples,\n",
    "    ),\n",
    "    argnums=(0, 1),\n",
    ")"
   ]
  },
  {
   "cell_type": "code",
   "execution_count": 14,
   "metadata": {},
   "outputs": [],
   "source": [
    "initial_loss, (initial_weight_gradient, initial_bias_gradient) = loss_and_grad_fun(\n",
    "    weight_matrices,\n",
    "    bias_vectors,\n",
    ")"
   ]
  },
  {
   "cell_type": "code",
   "execution_count": 15,
   "metadata": {},
   "outputs": [
    {
     "data": {
      "text/plain": [
       "Array(0.3169261, dtype=float32)"
      ]
     },
     "execution_count": 15,
     "metadata": {},
     "output_type": "execute_result"
    }
   ],
   "source": [
    "initial_loss"
   ]
  },
  {
   "cell_type": "code",
   "execution_count": 16,
   "metadata": {},
   "outputs": [
    {
     "data": {
      "text/plain": [
       "[Array([[ 7.2213945e-05, -1.8096704e-04, -2.1982470e-03,  3.7786365e-04,\n",
       "          2.5326079e-03,  1.5415612e-03, -2.2517676e-03,  2.7847683e-04,\n",
       "         -1.8824994e-05, -2.5364652e-04]], dtype=float32),\n",
       " Array([[-0.00186137,  0.00254069,  0.00303164,  0.00068392, -0.00191334,\n",
       "         -0.00034572, -0.00172571, -0.00117251, -0.00126445,  0.00313279],\n",
       "        [-0.00177593,  0.00241809,  0.0028959 ,  0.00063861, -0.00183092,\n",
       "         -0.00032684, -0.00164646, -0.00112519, -0.00121106,  0.00299182],\n",
       "        [-0.00085401,  0.00124205,  0.00133947,  0.00050296, -0.00079306,\n",
       "         -0.00020006, -0.00078846, -0.00044838, -0.00051117,  0.00138902],\n",
       "        [-0.00090233,  0.00130438,  0.00142061,  0.00051174, -0.00084676,\n",
       "         -0.00020707, -0.00083342, -0.00048307, -0.00054727,  0.00147264],\n",
       "        [-0.00173393,  0.00235984,  0.00282791,  0.00062118, -0.00178836,\n",
       "         -0.00031862, -0.00160746, -0.00109964, -0.00118311,  0.0029214 ],\n",
       "        [-0.00169394,  0.00233274,  0.00274546,  0.00067284, -0.00171918,\n",
       "         -0.00032565, -0.00156979, -0.00104322, -0.00113261,  0.0028386 ],\n",
       "        [-0.00086561,  0.00125698,  0.00135895,  0.00050501, -0.00080597,\n",
       "         -0.00020173, -0.00079925, -0.00045672, -0.00051985,  0.00140909],\n",
       "        [-0.00185942,  0.00253742,  0.00302885,  0.00068175, -0.00191195,\n",
       "         -0.00034504, -0.00172392, -0.00117197, -0.00126364,  0.00312985],\n",
       "        [-0.00070292,  0.00105443,  0.0010812 ,  0.00049303, -0.00061782,\n",
       "         -0.00018196, -0.00064776, -0.00033167, -0.00039216,  0.00112352],\n",
       "        [-0.00167203,  0.00230448,  0.00270869,  0.00066884, -0.00169485,\n",
       "         -0.00032246, -0.00154941, -0.00102751, -0.00111625,  0.0028007 ]],      dtype=float32),\n",
       " Array([[-0.00365221,  0.0007652 ,  0.00632715, -0.00546611, -0.00582907,\n",
       "         -0.00213392,  0.00944015,  0.00024883, -0.00603162,  0.01152291],\n",
       "        [-0.00453603,  0.00095066,  0.00785816, -0.00679385, -0.00724826,\n",
       "         -0.00264903,  0.01172266,  0.00030913, -0.00748878,  0.01431788],\n",
       "        [-0.00366527,  0.00076805,  0.0063497 , -0.00548749, -0.00585316,\n",
       "         -0.00214106,  0.0094731 ,  0.00024975, -0.00605226,  0.01156653],\n",
       "        [-0.00430292,  0.00089671,  0.00745491, -0.00635511, -0.00672618,\n",
       "         -0.002535  ,  0.01115086,  0.00029172, -0.00714638,  0.01346717],\n",
       "        [-0.00209144,  0.00043807,  0.00362331, -0.00312801, -0.00333427,\n",
       "         -0.00122255,  0.00540676,  0.00014245, -0.00345508,  0.00659576],\n",
       "        [-0.00306374,  0.00064038,  0.00530787, -0.0045586 , -0.00484507,\n",
       "         -0.0017967 ,  0.00792829,  0.00020828, -0.00507245,  0.00963188],\n",
       "        [-0.00329547,  0.00068953,  0.00570927, -0.00491587, -0.00523232,\n",
       "         -0.00192953,  0.00852372,  0.00022424, -0.00545022,  0.01037637],\n",
       "        [-0.00204387,  0.00042894,  0.0035407 , -0.00307141, -0.00328304,\n",
       "         -0.00119109,  0.00527854,  0.00013946, -0.00336951,  0.00646454],\n",
       "        [-0.00282073,  0.00059098,  0.0048867 , -0.00422143, -0.00450152,\n",
       "         -0.00164817,  0.0072911 ,  0.00019217, -0.00465856,  0.0088992 ],\n",
       "        [-0.00483377,  0.00101049,  0.00837426, -0.00719461, -0.00764857,\n",
       "         -0.00283406,  0.01250758,  0.00032865, -0.00800175,  0.01519974]],      dtype=float32),\n",
       " Array([[-0.09192445],\n",
       "        [-0.06786033],\n",
       "        [-0.08611915],\n",
       "        [-0.04069593],\n",
       "        [-0.08420935],\n",
       "        [-0.08911227],\n",
       "        [-0.08413495],\n",
       "        [-0.06735089],\n",
       "        [-0.09053957],\n",
       "        [-0.0797373 ]], dtype=float32)]"
      ]
     },
     "execution_count": 16,
     "metadata": {},
     "output_type": "execute_result"
    }
   ],
   "source": [
    "initial_weight_gradient"
   ]
  },
  {
   "cell_type": "code",
   "execution_count": 18,
   "metadata": {},
   "outputs": [],
   "source": [
    "loss_and_grad_fun = jax.jit(loss_and_grad_fun)"
   ]
  },
  {
   "cell_type": "code",
   "execution_count": 19,
   "metadata": {},
   "outputs": [
    {
     "name": "stdout",
     "output_type": "stream",
     "text": [
      "epoch: 0, loss: 0.22284099459648132\n",
      "epoch: 100, loss: 0.18129336833953857\n",
      "epoch: 200, loss: 0.15051481127738953\n",
      "epoch: 300, loss: 0.13804425299167633\n",
      "epoch: 400, loss: 0.13380441069602966\n",
      "epoch: 500, loss: 0.1318942755460739\n",
      "epoch: 600, loss: 0.1306501030921936\n",
      "epoch: 700, loss: 0.1295970380306244\n",
      "epoch: 800, loss: 0.12858381867408752\n",
      "epoch: 900, loss: 0.12756027281284332\n",
      "epoch: 1000, loss: 0.12651056051254272\n",
      "epoch: 1100, loss: 0.12543118000030518\n",
      "epoch: 1200, loss: 0.12432336807250977\n",
      "epoch: 1300, loss: 0.1231902688741684\n",
      "epoch: 1400, loss: 0.12203596532344818\n",
      "epoch: 1500, loss: 0.12086497992277145\n",
      "epoch: 1600, loss: 0.11968198418617249\n",
      "epoch: 1700, loss: 0.11849166452884674\n",
      "epoch: 1800, loss: 0.1172986552119255\n",
      "epoch: 1900, loss: 0.11610740423202515\n",
      "epoch: 2000, loss: 0.11492209881544113\n",
      "epoch: 2100, loss: 0.11374662071466446\n",
      "epoch: 2200, loss: 0.11258453130722046\n",
      "epoch: 2300, loss: 0.11143899708986282\n",
      "epoch: 2400, loss: 0.11031276732683182\n",
      "epoch: 2500, loss: 0.10920818150043488\n",
      "epoch: 2600, loss: 0.1081271693110466\n",
      "epoch: 2700, loss: 0.10707126557826996\n",
      "epoch: 2800, loss: 0.10604164749383926\n",
      "epoch: 2900, loss: 0.10503911972045898\n",
      "epoch: 3000, loss: 0.10406415909528732\n",
      "epoch: 3100, loss: 0.1031169593334198\n",
      "epoch: 3200, loss: 0.10219745337963104\n",
      "epoch: 3300, loss: 0.10130533576011658\n",
      "epoch: 3400, loss: 0.10044009983539581\n",
      "epoch: 3500, loss: 0.09960103780031204\n",
      "epoch: 3600, loss: 0.098787322640419\n",
      "epoch: 3700, loss: 0.0979979857802391\n",
      "epoch: 3800, loss: 0.09723196178674698\n",
      "epoch: 3900, loss: 0.09648804366588593\n",
      "epoch: 4000, loss: 0.09576499462127686\n",
      "epoch: 4100, loss: 0.09506148844957352\n",
      "epoch: 4200, loss: 0.09437616169452667\n",
      "epoch: 4300, loss: 0.09370756149291992\n",
      "epoch: 4400, loss: 0.09305420517921448\n",
      "epoch: 4500, loss: 0.09241460263729095\n",
      "epoch: 4600, loss: 0.09178720414638519\n",
      "epoch: 4700, loss: 0.09117040783166885\n",
      "epoch: 4800, loss: 0.0905626192688942\n",
      "epoch: 4900, loss: 0.0899621844291687\n",
      "epoch: 5000, loss: 0.08936747163534164\n",
      "epoch: 5100, loss: 0.08877678960561752\n",
      "epoch: 5200, loss: 0.08818844705820084\n",
      "epoch: 5300, loss: 0.08760076016187668\n",
      "epoch: 5400, loss: 0.08701209723949432\n",
      "epoch: 5500, loss: 0.08642080426216125\n",
      "epoch: 5600, loss: 0.08582530170679092\n",
      "epoch: 5700, loss: 0.08522412925958633\n",
      "epoch: 5800, loss: 0.08461592346429825\n",
      "epoch: 5900, loss: 0.08399951457977295\n",
      "epoch: 6000, loss: 0.08337396383285522\n",
      "epoch: 6100, loss: 0.08273860812187195\n",
      "epoch: 6200, loss: 0.08209314942359924\n",
      "epoch: 6300, loss: 0.08143772184848785\n",
      "epoch: 6400, loss: 0.08077295124530792\n",
      "epoch: 6500, loss: 0.08010003715753555\n",
      "epoch: 6600, loss: 0.07942076772451401\n",
      "epoch: 6700, loss: 0.07873759418725967\n",
      "epoch: 6800, loss: 0.07805361598730087\n",
      "epoch: 6900, loss: 0.0773724913597107\n",
      "epoch: 7000, loss: 0.07669846713542938\n",
      "epoch: 7100, loss: 0.07603612542152405\n",
      "epoch: 7200, loss: 0.07539033889770508\n",
      "epoch: 7300, loss: 0.07476596534252167\n",
      "epoch: 7400, loss: 0.07416768372058868\n",
      "epoch: 7500, loss: 0.07359969615936279\n",
      "epoch: 7600, loss: 0.07306558638811111\n",
      "epoch: 7700, loss: 0.07256808876991272\n",
      "epoch: 7800, loss: 0.07210896909236908\n",
      "epoch: 7900, loss: 0.07168898731470108\n",
      "epoch: 8000, loss: 0.07130787521600723\n",
      "epoch: 8100, loss: 0.07096447795629501\n",
      "epoch: 8200, loss: 0.07065678387880325\n",
      "epoch: 8300, loss: 0.07038218528032303\n",
      "epoch: 8400, loss: 0.0701376348733902\n",
      "epoch: 8500, loss: 0.06991977244615555\n",
      "epoch: 8600, loss: 0.06972518563270569\n",
      "epoch: 8700, loss: 0.0695505142211914\n",
      "epoch: 8800, loss: 0.06939247250556946\n",
      "epoch: 8900, loss: 0.06924812495708466\n",
      "epoch: 9000, loss: 0.06911472231149673\n",
      "epoch: 9100, loss: 0.0689898282289505\n",
      "epoch: 9200, loss: 0.06887131929397583\n",
      "epoch: 9300, loss: 0.06875735521316528\n",
      "epoch: 9400, loss: 0.06864634901285172\n",
      "epoch: 9500, loss: 0.0685369074344635\n",
      "epoch: 9600, loss: 0.06842786818742752\n",
      "epoch: 9700, loss: 0.0683181956410408\n",
      "epoch: 9800, loss: 0.06820698827505112\n",
      "epoch: 9900, loss: 0.06809341907501221\n",
      "epoch: 10000, loss: 0.06797672808170319\n",
      "epoch: 10100, loss: 0.06785618513822556\n",
      "epoch: 10200, loss: 0.06773108243942261\n",
      "epoch: 10300, loss: 0.06760068982839584\n",
      "epoch: 10400, loss: 0.06746426224708557\n",
      "epoch: 10500, loss: 0.06732098758220673\n",
      "epoch: 10600, loss: 0.06717001646757126\n",
      "epoch: 10700, loss: 0.06701046973466873\n",
      "epoch: 10800, loss: 0.06684135645627975\n",
      "epoch: 10900, loss: 0.06666166335344315\n",
      "epoch: 11000, loss: 0.06647032499313354\n",
      "epoch: 11100, loss: 0.06626622378826141\n",
      "epoch: 11200, loss: 0.06604830920696259\n",
      "epoch: 11300, loss: 0.06581549346446991\n",
      "epoch: 11400, loss: 0.06556679308414459\n",
      "epoch: 11500, loss: 0.0653013363480568\n",
      "epoch: 11600, loss: 0.06501829624176025\n",
      "epoch: 11700, loss: 0.06471695005893707\n",
      "epoch: 11800, loss: 0.06439659744501114\n",
      "epoch: 11900, loss: 0.06405655294656754\n",
      "epoch: 12000, loss: 0.06369614601135254\n",
      "epoch: 12100, loss: 0.06331497430801392\n",
      "epoch: 12200, loss: 0.06291306018829346\n",
      "epoch: 12300, loss: 0.06249139830470085\n",
      "epoch: 12400, loss: 0.06205206364393234\n",
      "epoch: 12500, loss: 0.061598338186740875\n",
      "epoch: 12600, loss: 0.06113412603735924\n",
      "epoch: 12700, loss: 0.06066316366195679\n",
      "epoch: 12800, loss: 0.060188282281160355\n",
      "epoch: 12900, loss: 0.05971110984683037\n",
      "epoch: 13000, loss: 0.059232328087091446\n",
      "epoch: 13100, loss: 0.0587521493434906\n",
      "epoch: 13200, loss: 0.0582706592977047\n",
      "epoch: 13300, loss: 0.05778815969824791\n",
      "epoch: 13400, loss: 0.057305220514535904\n",
      "epoch: 13500, loss: 0.056822650134563446\n",
      "epoch: 13600, loss: 0.056341543793678284\n",
      "epoch: 13700, loss: 0.05586322769522667\n",
      "epoch: 13800, loss: 0.05538930743932724\n",
      "epoch: 13900, loss: 0.05492155998945236\n",
      "epoch: 14000, loss: 0.0544617734849453\n",
      "epoch: 14100, loss: 0.054011568427085876\n",
      "epoch: 14200, loss: 0.05357224866747856\n",
      "epoch: 14300, loss: 0.053144559264183044\n",
      "epoch: 14400, loss: 0.05272875726222992\n",
      "epoch: 14500, loss: 0.05232462286949158\n",
      "epoch: 14600, loss: 0.051931679248809814\n",
      "epoch: 14700, loss: 0.05154939368367195\n",
      "epoch: 14800, loss: 0.05117722973227501\n",
      "epoch: 14900, loss: 0.05081477016210556\n",
      "epoch: 15000, loss: 0.05046173930168152\n",
      "epoch: 15100, loss: 0.05011796951293945\n",
      "epoch: 15200, loss: 0.04978330433368683\n",
      "epoch: 15300, loss: 0.04945759102702141\n",
      "epoch: 15400, loss: 0.04914060980081558\n",
      "epoch: 15500, loss: 0.048832058906555176\n",
      "epoch: 15600, loss: 0.04853155091404915\n",
      "epoch: 15700, loss: 0.04823866859078407\n",
      "epoch: 15800, loss: 0.04795291647315025\n",
      "epoch: 15900, loss: 0.047673843801021576\n",
      "epoch: 16000, loss: 0.04740099981427193\n",
      "epoch: 16100, loss: 0.04713398963212967\n",
      "epoch: 16200, loss: 0.046872444450855255\n",
      "epoch: 16300, loss: 0.0466160848736763\n",
      "epoch: 16400, loss: 0.046364668756723404\n",
      "epoch: 16500, loss: 0.04611795023083687\n",
      "epoch: 16600, loss: 0.045875806361436844\n",
      "epoch: 16700, loss: 0.04563814401626587\n",
      "epoch: 16800, loss: 0.045404840260744095\n",
      "epoch: 16900, loss: 0.04517586529254913\n",
      "epoch: 17000, loss: 0.044951193034648895\n",
      "epoch: 17100, loss: 0.044730816036462784\n",
      "epoch: 17200, loss: 0.044514741748571396\n",
      "epoch: 17300, loss: 0.044302988797426224\n",
      "epoch: 17400, loss: 0.044095609337091446\n",
      "epoch: 17500, loss: 0.04389265552163124\n",
      "epoch: 17600, loss: 0.0436941534280777\n",
      "epoch: 17700, loss: 0.0435001440346241\n",
      "epoch: 17800, loss: 0.04331071674823761\n",
      "epoch: 17900, loss: 0.04312589392066002\n",
      "epoch: 18000, loss: 0.04294571653008461\n",
      "epoch: 18100, loss: 0.04277024045586586\n",
      "epoch: 18200, loss: 0.04259945824742317\n",
      "epoch: 18300, loss: 0.042433422058820724\n",
      "epoch: 18400, loss: 0.042272113263607025\n",
      "epoch: 18500, loss: 0.042115554213523865\n",
      "epoch: 18600, loss: 0.04196371138095856\n",
      "epoch: 18700, loss: 0.0418165847659111\n",
      "epoch: 18800, loss: 0.04167412593960762\n",
      "epoch: 18900, loss: 0.04153631255030632\n",
      "epoch: 19000, loss: 0.04140307381749153\n",
      "epoch: 19100, loss: 0.04127437621355057\n",
      "epoch: 19200, loss: 0.04115014523267746\n",
      "epoch: 19300, loss: 0.041030291467905045\n",
      "epoch: 19400, loss: 0.04091474786400795\n",
      "epoch: 19500, loss: 0.0408034585416317\n",
      "epoch: 19600, loss: 0.04069630056619644\n",
      "epoch: 19700, loss: 0.04059317335486412\n",
      "epoch: 19800, loss: 0.04049402102828026\n",
      "epoch: 19900, loss: 0.040398698300123215\n",
      "epoch: 20000, loss: 0.04030711576342583\n",
      "epoch: 20100, loss: 0.04021919146180153\n",
      "epoch: 20200, loss: 0.040134772658348083\n",
      "epoch: 20300, loss: 0.04005381464958191\n",
      "epoch: 20400, loss: 0.03997615724802017\n",
      "epoch: 20500, loss: 0.039901718497276306\n",
      "epoch: 20600, loss: 0.03983037546277046\n",
      "epoch: 20700, loss: 0.039762046188116074\n",
      "epoch: 20800, loss: 0.0396965928375721\n",
      "epoch: 20900, loss: 0.03963395208120346\n",
      "epoch: 21000, loss: 0.03957398980855942\n",
      "epoch: 21100, loss: 0.0395166240632534\n",
      "epoch: 21200, loss: 0.039461735635995865\n",
      "epoch: 21300, loss: 0.03940926864743233\n",
      "epoch: 21400, loss: 0.03935908526182175\n",
      "epoch: 21500, loss: 0.03931111469864845\n",
      "epoch: 21600, loss: 0.03926525264978409\n",
      "epoch: 21700, loss: 0.039221446961164474\n",
      "epoch: 21800, loss: 0.03917958214879036\n",
      "epoch: 21900, loss: 0.039139583706855774\n",
      "epoch: 22000, loss: 0.03910137340426445\n",
      "epoch: 22100, loss: 0.039064887911081314\n",
      "epoch: 22200, loss: 0.0390300415456295\n",
      "epoch: 22300, loss: 0.03899674862623215\n",
      "epoch: 22400, loss: 0.038964979350566864\n",
      "epoch: 22500, loss: 0.03893463686108589\n",
      "epoch: 22600, loss: 0.03890565410256386\n",
      "epoch: 22700, loss: 0.03887800872325897\n",
      "epoch: 22800, loss: 0.038851600140333176\n",
      "epoch: 22900, loss: 0.03882638365030289\n",
      "epoch: 23000, loss: 0.03880231827497482\n",
      "epoch: 23100, loss: 0.03877933323383331\n",
      "epoch: 23200, loss: 0.038757387548685074\n",
      "epoch: 23300, loss: 0.03873642906546593\n",
      "epoch: 23400, loss: 0.03871642053127289\n",
      "epoch: 23500, loss: 0.03869732469320297\n",
      "epoch: 23600, loss: 0.0386790931224823\n",
      "epoch: 23700, loss: 0.03866166993975639\n",
      "epoch: 23800, loss: 0.03864503279328346\n",
      "epoch: 23900, loss: 0.038629140704870224\n",
      "epoch: 24000, loss: 0.03861398249864578\n",
      "epoch: 24100, loss: 0.038599465042352676\n",
      "epoch: 24200, loss: 0.0385856032371521\n",
      "epoch: 24300, loss: 0.03857235237956047\n",
      "epoch: 24400, loss: 0.038559697568416595\n",
      "epoch: 24500, loss: 0.038547612726688385\n",
      "epoch: 24600, loss: 0.038536038249731064\n",
      "epoch: 24700, loss: 0.03852498531341553\n",
      "epoch: 24800, loss: 0.0385144017636776\n",
      "epoch: 24900, loss: 0.03850429132580757\n",
      "epoch: 25000, loss: 0.03849460184574127\n",
      "epoch: 25100, loss: 0.0384853295981884\n",
      "epoch: 25200, loss: 0.03847646713256836\n",
      "epoch: 25300, loss: 0.038467954844236374\n",
      "epoch: 25400, loss: 0.03845983371138573\n",
      "epoch: 25500, loss: 0.03845205903053284\n",
      "epoch: 25600, loss: 0.03844457119703293\n",
      "epoch: 25700, loss: 0.03843742609024048\n",
      "epoch: 25800, loss: 0.03843057155609131\n",
      "epoch: 25900, loss: 0.038423992693424225\n",
      "epoch: 26000, loss: 0.038417696952819824\n",
      "epoch: 26100, loss: 0.038411639630794525\n",
      "epoch: 26200, loss: 0.03840583562850952\n",
      "epoch: 26300, loss: 0.03840026259422302\n",
      "epoch: 26400, loss: 0.03839489817619324\n",
      "epoch: 26500, loss: 0.038389768451452255\n",
      "epoch: 26600, loss: 0.0383848212659359\n",
      "epoch: 26700, loss: 0.038380060344934464\n",
      "epoch: 26800, loss: 0.03837549686431885\n",
      "epoch: 26900, loss: 0.03837110847234726\n",
      "epoch: 27000, loss: 0.038366880267858505\n",
      "epoch: 27100, loss: 0.038362789899110794\n",
      "epoch: 27200, loss: 0.03835887461900711\n",
      "epoch: 27300, loss: 0.03835509717464447\n",
      "epoch: 27400, loss: 0.03835145756602287\n",
      "epoch: 27500, loss: 0.038347940891981125\n",
      "epoch: 27600, loss: 0.03834455460309982\n",
      "epoch: 27700, loss: 0.03834128752350807\n",
      "epoch: 27800, loss: 0.038338132202625275\n",
      "epoch: 27900, loss: 0.03833509609103203\n",
      "epoch: 28000, loss: 0.03833216428756714\n",
      "epoch: 28100, loss: 0.038329314440488815\n",
      "epoch: 28200, loss: 0.03832656145095825\n",
      "epoch: 28300, loss: 0.03832390159368515\n",
      "epoch: 28400, loss: 0.038321319967508316\n",
      "epoch: 28500, loss: 0.03831884264945984\n",
      "epoch: 28600, loss: 0.03831642493605614\n",
      "epoch: 28700, loss: 0.038314104080200195\n",
      "epoch: 28800, loss: 0.038311854004859924\n",
      "epoch: 28900, loss: 0.03830965235829353\n",
      "epoch: 29000, loss: 0.03830752521753311\n",
      "epoch: 29100, loss: 0.03830546885728836\n",
      "epoch: 29200, loss: 0.03830346837639809\n",
      "epoch: 29300, loss: 0.03830152750015259\n",
      "epoch: 29400, loss: 0.03829963132739067\n",
      "epoch: 29500, loss: 0.03829779475927353\n",
      "epoch: 29600, loss: 0.038296014070510864\n",
      "epoch: 29700, loss: 0.03829427808523178\n",
      "epoch: 29800, loss: 0.038292597979307175\n",
      "epoch: 29900, loss: 0.038290951400995255\n"
     ]
    }
   ],
   "source": [
    "# Training loop\n",
    "loss_history = []\n",
    "for epoch in range(N_EPOCHS):\n",
    "    loss, (weight_gradients, bias_gradients) = loss_and_grad_fun(\n",
    "        weight_matrices,\n",
    "        bias_vectors,\n",
    "    )\n",
    "\n",
    "    weight_matrices = jax.tree_map(\n",
    "        lambda W, W_grad: W - LEARNING_RATE * W_grad,\n",
    "        weight_matrices,\n",
    "        weight_gradients\n",
    "    )\n",
    "    bias_vectors = jax.tree_map(\n",
    "        lambda b, b_grad: b - LEARNING_RATE * b_grad,\n",
    "        bias_vectors,\n",
    "        bias_gradients,\n",
    "    )\n",
    "\n",
    "    if epoch % 100 == 0:\n",
    "        print(f\"epoch: {epoch}, loss: {loss}\")\n",
    "    \n",
    "    loss_history.append(loss)"
   ]
  },
  {
   "cell_type": "code",
   "execution_count": 20,
   "metadata": {},
   "outputs": [
    {
     "data": {
      "image/png": "[encoded data removed]",
      "text/plain": [
       "<Figure size 640x480 with 1 Axes>"
      ]
     },
     "metadata": {},
     "output_type": "display_data"
    }
   ],
   "source": [
    "plt.plot(loss_history)\n",
    "plt.yscale(\"log\")"
   ]
  },
  {
   "cell_type": "code",
   "execution_count": 21,
   "metadata": {},
   "outputs": [
    {
     "data": {
      "text/plain": [
       "<matplotlib.collections.PathCollection at 0x7f3a04519d80>"
      ]
     },
     "execution_count": 21,
     "metadata": {},
     "output_type": "execute_result"
    },
    {
     "data": {
      "image/png": "[encoded data removed]",
      "text/plain": [
       "<Figure size 640x480 with 1 Axes>"
      ]
     },
     "metadata": {},
     "output_type": "display_data"
    }
   ],
   "source": [
    "plt.scatter(x_samples, y_samples)\n",
    "plt.scatter(x_samples, network_forward(x_samples, weight_matrices, bias_vectors, activation_functions))"
   ]
  },
  {
   "cell_type": "code",
   "execution_count": null,
   "metadata": {},
   "outputs": [],
   "source": []
  }
 ],
 "metadata": {
  "kernelspec": {
   "display_name": "base",
   "language": "python",
   "name": "python3"
  },
  "language_info": {
   "codemirror_mode": {
    "name": "ipython",
    "version": 3
   },
   "file_extension": ".py",
   "mimetype": "text/x-python",
   "name": "python",
   "nbconvert_exporter": "python",
   "pygments_lexer": "ipython3",
   "version": "3.10.9"
  },
  "orig_nbformat": 4,
  "vscode": {
   "interpreter": {
    "hash": "265371ff1b98b9f4eaa16d44fb1eb5bb5e02f4557e1c68186d1d500959ccd159"
   }
  }
 },
 "nbformat": 4,
 "nbformat_minor": 2
}
