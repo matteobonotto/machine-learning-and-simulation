{
 "cells": [
  {
   "attachments": {},
   "cell_type": "markdown",
   "metadata": {},
   "source": [
    "# Backpropagation from Scratch in Python\n",
    "\n",
    "**Training a Neural Network to mimic the sine function using pure NumPy**\n",
    "\n",
    "This jupyter notebook intends to be a hands-on tutorial for the implementation of a simple MLP with backpropagation. The neural network is trained to mimic the sin function from data. Special focus is on the backward pass which is just a special case of reverse-mode automatic differentiation\n",
    "\n",
    "Simplifications:\n",
    "- No train-val-test split\n",
    "- No regularization\n",
    "- No Stochastic Minibatching\n",
    "- Simple Gradient Descent with constant learning rate\n",
    "- No training modifications\n",
    "\n",
    "---\n",
    "\n",
    "Given:\n",
    "\n",
    "- $x \\in \\Re^{N \\times 1}$ and $y \\in \\Re^{N \\times 1}$ (N pairs of (x, y) samples that somehow follow a sine curve)\n",
    "- weight matrices and biases with the correct shapes\n",
    "- sigmoid activation function $\\sigma(x) = \\frac{1}{1 + e^{-x}}$\n",
    "\n",
    "-> The sigmoid activation function has a nice property that its derivative can\n",
    "expressed using the primal output\n",
    "\n",
    "$$\n",
    "\\sigma ' (x) = \\sigma(x) (1 - \\sigma(x))\n",
    "$$\n",
    "\n",
    "Notice the convention of the data matrices being batch x spatial. As such, weight matrices have to be right-multiplied in order to affect the spatial dimensions.\n",
    "\n",
    "---\n",
    "\n",
    "### Forward Pass\n",
    "\n",
    "$$\n",
    "\\begin{aligned}\n",
    "y_1 &= x \\cdot W_1\n",
    "\\\\\n",
    "\\tilde{y}_1 &= y_1 + b_1\n",
    "\\\\\n",
    "\\hat{y}_1 &= \\sigma(\\tilde{y}_1)\n",
    "\\end{aligned}\n",
    "$$\n",
    "\n",
    "$$\n",
    "\\begin{aligned}\n",
    "y_2 &= \\hat{y}_1 \\cdot W_2\n",
    "\\\\\n",
    "\\tilde{y}_2 &= y_2 + b_2\n",
    "\\\\\n",
    "\\hat{y}_2 &= \\sigma(\\tilde{y}_2)\n",
    "\\end{aligned}\n",
    "$$\n",
    "\n",
    "$$\n",
    "\\begin{aligned}\n",
    "y_3 &= \\hat{y}_2 \\cdot W_3\n",
    "\\\\\n",
    "\\tilde{y}_3 &= y_3 + b_3\n",
    "\\\\\n",
    "\\hat{y}_3 &= \\sigma(\\tilde{y}_3)\n",
    "\\end{aligned}\n",
    "$$\n",
    "\n",
    "$$\n",
    "\\begin{aligned}\n",
    "y_4 &= \\hat{y}_3 \\cdot W_4\n",
    "\\\\\n",
    "\\tilde{y}_4 &= y_4 + b_4\n",
    "\\\\\n",
    "\\hat{y}_4 &= I(\\tilde{y}_3)\n",
    "\\end{aligned}\n",
    "$$\n",
    "\n",
    "$$\n",
    "L = \\frac{1}{2} \\text{mean\\_over\\_all\\_axes}((\\hat{y}_4 - y)^2)\n",
    "$$\n",
    "\n",
    "---\n",
    "\n",
    "### Weight Initiliazation\n",
    "\n",
    "(Xavier Glorot Uniform init)\n",
    "\n",
    "$$\n",
    "\\begin{aligned}\n",
    "W_{i,kl} &\\propto \\mathcal{U}(-lim, lim)\n",
    "\\\\\n",
    "lim &= \\sqrt{\\frac{6}{\\text{fan\\_in}_i + \\text{fan\\_out}_i}}\n",
    "\\\\\n",
    "b_{i,k} &= 0\n",
    "\\end{aligned}\n",
    "$$\n",
    "\n",
    "---\n",
    "\n",
    "### Backward Pass\n",
    "\n",
    "(Run Forward Pass and save all **activated layer states**)\n",
    "\n",
    "$$\n",
    "\\begin{aligned}\n",
    "\\bar{L} &= 1.0\n",
    "\\\\\n",
    "\\bar{\\hat{y}}_4 &= \\bar{L} \\frac{\\hat{y}_4 - y}{N}\n",
    "\\end{aligned}\n",
    "$$\n",
    "\n",
    "$$\n",
    "\\begin{aligned}\n",
    "\\bar{\\tilde{y}}_4 &= \\bar{\\hat{y}_4} \\odot 1\n",
    "\\\\\n",
    "\\bar{b}_4 &= \\text{sum\\_over\\_batch}(\\bar{\\tilde{y}}_4)\n",
    "\\\\\n",
    "\\bar{y}_4 &= \\bar{\\tilde{y}}_4\n",
    "\\\\\n",
    "\\bar{\\hat{y}}_3 &= \\bar{y}_4 \\cdot W_4^T\n",
    "\\\\\n",
    "\\bar{W}_4 &= \\bar{y}_4 \\cdot \\hat{y}_3^T%\n",
    "\\end{aligned}\n",
    "$$\n",
    "\n",
    "$$\n",
    "\\begin{aligned}\n",
    "\\bar{\\tilde{y}}_3 &= \\bar{\\hat{y}_3} \\odot \\hat{y}_3 \\odot (1 - \\hat{y}_3)\n",
    "\\\\\n",
    "\\bar{b}_3 &= \\text{sum\\_over\\_batch}(\\bar{\\tilde{y}}_3)\n",
    "\\\\\n",
    "\\bar{y}_3 &= \\bar{\\tilde{y}}_3\n",
    "\\\\\n",
    "\\bar{\\hat{y}}_2 &= \\bar{y}_3 \\cdot W_3^T\n",
    "\\\\\n",
    "\\bar{W}_3 &= \\bar{y}_3 \\cdot \\hat{y}_2^T\n",
    "\\end{aligned}\n",
    "$$\n",
    "\n",
    "$$\n",
    "\\begin{aligned}\n",
    "\\bar{\\tilde{y}}_2 &= \\bar{\\hat{y}_2} \\odot \\hat{y}_2 \\odot (1 - \\hat{y}_2)\n",
    "\\\\\n",
    "\\bar{b}_2 &= \\text{sum\\_over\\_batch}(\\bar{\\tilde{y}}_2)\n",
    "\\\\\n",
    "\\bar{y}_2 &= \\bar{\\tilde{y}}_2\n",
    "\\\\\n",
    "\\bar{\\hat{y}}_1 &= \\bar{y}_2 \\cdot W_2^T\n",
    "\\\\\n",
    "\\bar{W}_2 &= \\bar{y}_2 \\cdot \\hat{y}_1^T\n",
    "\\end{aligned}\n",
    "$$\n",
    "\n",
    "$$\n",
    "\\begin{aligned}\n",
    "\\bar{\\tilde{y}}_1 &= \\bar{\\hat{y}_1} \\odot \\hat{y}_1 \\odot (1 - \\hat{y}_1)\n",
    "\\\\\n",
    "\\bar{b}_1 &= \\text{sum\\_over\\_batch}(\\bar{\\tilde{y}}_1)\n",
    "\\\\\n",
    "\\bar{y}_1 &= \\bar{\\tilde{y}}_1\n",
    "\\\\\n",
    "&\\left[ \\bar{x} = \\bar{y}_1 \\cdot W_1^T \\right]\n",
    "\\\\\n",
    "\\bar{W}_1 &= \\bar{y}_1 \\cdot x^T\n",
    "\\end{aligned}\n",
    "$$\n",
    "\n",
    "---\n",
    "\n",
    "### Learning:\n",
    "\n",
    "Approximately solve a non-convex optimization problem in the parameter space from a randomized initial estimate.\n",
    "\n",
    "1. Initialize weights and biases\n",
    "2. Run forward **and** backward pass (here for all samples together - no minibatching)\n",
    "3. Update each parameter with its gradient, e.g., $W_1 \\leftarrow W_1 - \\eta \\bar{W}_1$\n",
    "4. Repeat until loss is sufficiently decreased"
   ]
  },
  {
   "attachments": {},
   "cell_type": "markdown",
   "metadata": {},
   "source": [
    "## More details on the backward pass:\n",
    "\n",
    "We used the following primitive pullback/vJp/backprop/adjoint(¹) rules\n",
    "\n",
    "1. Pullback from loss cotangent to guess cotangent ($\\bar{L} \\rightarrow \\bar{\\hat{y}}_4$)\n",
    "2. Pullback over broacasted function activation ($\\bar{\\hat{y}}_i \\rightarrow \\bar{\\tilde{y}}_i$)\n",
    "3. Pullback over batch broadcast vector addition ($\\bar{\\tilde{y}}_i \\rightarrow \\bar{b}_i$)\n",
    "4. Pullback over addition ($\\bar{\\tilde{y}} \\rightarrow \\bar{y}_i$)\n",
    "5. Pullback over matrix-vector (or here matrix-matrix) multiplication ($\\bar{y}_i \\rightarrow \\bar{\\hat{y}}_{i-1}$)\n",
    "6. Pullback over matrix-vector (or here matrix-matrix) multiplication into the matrix ($\\bar{y}_i \\rightarrow \\bar{W}_i$)\n",
    "\n",
    "Operation (3) and (6) map back into the parameter space. Hence, those are the final ones, giving gradients. The other operations let the *cotangents flow reversely over the computational graph*.\n",
    "\n",
    "If you want more details, on why these rules are the way they are, here are more interesting videos on their derivation:\n",
    "\n",
    "\n",
    "1. Loss to guess\n",
    "    1. Pullback of L2 Loss: https://youtu.be/TonUAqYCWAY\n",
    "    2. Pullback of a (mean) aggregator, similar to scalar multiplication: https://youtu.be/ho8v1FpoaEg\n",
    "2. Pullback over broadcasted function: https://youtu.be/bLE6xsVSTUs\n",
    "3. Over addition\n",
    "    1. Pullback over scalar addition (holds also for vector and matrix addition): https://youtu.be/SY2ga4ylwVM\n",
    "    2. Pullback over a scather operation: The reverse will just be the sum the cotangents over the scattered xis\n",
    "4. Pullback over scalar addition (holds also for vector and matrix addition):https://youtu.be/SY2ga4ylwVM\n",
    "5. Over Matrix-Vector product\n",
    "    1. Pullback over a matrix-vector product: https://youtu.be/lqIhocjJLUc\n",
    "    2. (More precisely we do a matrix-matrix product to account for batching): https://youtu.be/O5YealZxi68\n",
    "6. Over Matrix-Vector product\n",
    "    1. Pullback over a matrix-vector product: https://youtu.be/lqIhocjJLUc\n",
    "    2. (More precisely we do a matrix-matrix product to account for batching): https://youtu.be/O5YealZxi68\n",
    "\n",
    "\n",
    "(¹): The idea of how NNs obtain their parameter gradients in a backward pass is\n",
    "a concept found in many disciplines of science. Hence, the history is filled\n",
    "with multiple re-inventions\n",
    "(https://en.wikipedia.org/wiki/Backpropagation#History) and namings vary.\n"
   ]
  },
  {
   "cell_type": "code",
   "execution_count": 1,
   "metadata": {},
   "outputs": [],
   "source": [
    "import numpy as np\n",
    "import matplotlib.pyplot as plt"
   ]
  },
  {
   "cell_type": "code",
   "execution_count": 2,
   "metadata": {},
   "outputs": [],
   "source": [
    "np.random.seed(0)"
   ]
  },
  {
   "cell_type": "code",
   "execution_count": 3,
   "metadata": {},
   "outputs": [],
   "source": [
    "N_SAMPLES = 200\n",
    "LAYERS = [1, 10, 10, 10, 1]\n",
    "LEARNING_RATE = 0.1\n",
    "N_EPOCHS = 30_000"
   ]
  },
  {
   "cell_type": "code",
   "execution_count": 4,
   "metadata": {},
   "outputs": [],
   "source": [
    "# Python convention is batch x spatial\n",
    "x_samples = np.random.uniform(low=0.0, high=2 * np.pi, size=(N_SAMPLES, 1))\n",
    "y_samples = np.sin(x_samples) + np.random.normal(loc=0.0, scale=0.3, size=(N_SAMPLES, 1))"
   ]
  },
  {
   "cell_type": "code",
   "execution_count": 5,
   "metadata": {},
   "outputs": [
    {
     "data": {
      "text/plain": [
       "<matplotlib.collections.PathCollection at 0x7f1cde151870>"
      ]
     },
     "execution_count": 5,
     "metadata": {},
     "output_type": "execute_result"
    },
    {
     "data": {
      "image/png": "[encoded data removed]",
      "text/plain": [
       "<Figure size 640x480 with 1 Axes>"
      ]
     },
     "metadata": {},
     "output_type": "display_data"
    }
   ],
   "source": [
    "plt.scatter(x_samples, y_samples)"
   ]
  },
  {
   "cell_type": "code",
   "execution_count": 6,
   "metadata": {},
   "outputs": [],
   "source": [
    "# Activation functions\n",
    "sigmoid = lambda x: 1 / (1 + np.exp(-x))\n",
    "identity = lambda x: x"
   ]
  },
  {
   "cell_type": "code",
   "execution_count": 7,
   "metadata": {},
   "outputs": [],
   "source": [
    "# Initialization of weights and biases\n",
    "weight_matrices = []\n",
    "bias_vectors = []\n",
    "activation_functions = []\n",
    "\n",
    "for (fan_in, fan_out) in zip(LAYERS[:-1], LAYERS[1:]):\n",
    "    kernel_matrix_uniform_limit = np.sqrt(6 / (fan_in + fan_out))\n",
    "\n",
    "    # Glorot uniform initialization\n",
    "    W = np.random.uniform(\n",
    "        low=-kernel_matrix_uniform_limit,\n",
    "        high=+kernel_matrix_uniform_limit,\n",
    "        size=(fan_in, fan_out),\n",
    "    )\n",
    "\n",
    "    # Zero bias initialization\n",
    "    b = np.zeros(fan_out)\n",
    "\n",
    "    weight_matrices.append(W)\n",
    "    bias_vectors.append(b)\n",
    "    activation_functions.append(sigmoid)\n",
    "\n",
    "activation_functions[-1] = identity"
   ]
  },
  {
   "cell_type": "code",
   "execution_count": 8,
   "metadata": {},
   "outputs": [],
   "source": [
    "def network_forward(x, weights, biases, activations):\n",
    "    a = x\n",
    "\n",
    "    for W, b, f in zip(weights, biases, activations):\n",
    "        a = a @ W\n",
    "        a = a + b\n",
    "        a = f(a)\n",
    "    \n",
    "    return a"
   ]
  },
  {
   "cell_type": "code",
   "execution_count": 9,
   "metadata": {},
   "outputs": [
    {
     "data": {
      "text/plain": [
       "<matplotlib.collections.PathCollection at 0x7f1cde1be260>"
      ]
     },
     "execution_count": 9,
     "metadata": {},
     "output_type": "execute_result"
    },
    {
     "data": {
      "image/png": "[encoded data removed]",
      "text/plain": [
       "<Figure size 640x480 with 1 Axes>"
      ]
     },
     "metadata": {},
     "output_type": "display_data"
    }
   ],
   "source": [
    "plt.scatter(x_samples, y_samples)\n",
    "plt.scatter(x_samples, network_forward(x_samples, weight_matrices, bias_vectors, activation_functions))"
   ]
  },
  {
   "cell_type": "code",
   "execution_count": 10,
   "metadata": {},
   "outputs": [],
   "source": [
    "def loss_forward(y_guess, y_ref):\n",
    "    delta = y_guess - y_ref\n",
    "    return 0.5 * np.mean(delta**2)"
   ]
  },
  {
   "cell_type": "code",
   "execution_count": 11,
   "metadata": {},
   "outputs": [
    {
     "data": {
      "text/plain": [
       "0.8150125501544493"
      ]
     },
     "execution_count": 11,
     "metadata": {},
     "output_type": "execute_result"
    }
   ],
   "source": [
    "loss_forward(\n",
    "    network_forward(x_samples, weight_matrices, bias_vectors, activation_functions),\n",
    "    y_samples,\n",
    ")"
   ]
  },
  {
   "cell_type": "code",
   "execution_count": 12,
   "metadata": {},
   "outputs": [],
   "source": [
    "def loss_backward(y_guess, y_ref):\n",
    "    delta = y_guess - y_ref\n",
    "    N = delta.size\n",
    "    return delta / N"
   ]
  },
  {
   "cell_type": "code",
   "execution_count": 13,
   "metadata": {},
   "outputs": [
    {
     "ename": "SyntaxError",
     "evalue": "invalid syntax (1421862268.py, line 37)",
     "output_type": "error",
     "traceback": [
      "\u001b[0;36m  Cell \u001b[0;32mIn[13], line 37\u001b[0;36m\u001b[0m\n\u001b[0;31m    weight_grad =\u001b[0m\n\u001b[0m                 ^\u001b[0m\n\u001b[0;31mSyntaxError\u001b[0m\u001b[0;31m:\u001b[0m invalid syntax\n"
     ]
    }
   ],
   "source": [
    "def network_forward_and_backward(x, y_ref, weights, biases, activations, activations_derivatives):\n",
    "    a = x\n",
    "\n",
    "    # Store the intermediate activated states for the backward pass\n",
    "    layer_states = [a, ]\n",
    "\n",
    "    for W, b, f in zip(weights, biases, activations):\n",
    "        a = a @ W\n",
    "        a = a + b\n",
    "        a = f(a)\n",
    "        layer_states.append(a)\n",
    "    \n",
    "    y = a\n",
    "\n",
    "    loss = loss_forward(y, y_ref)\n",
    "\n",
    "    current_cotangent = loss_backward(y, y_ref)\n",
    "\n",
    "    weight_gradients = []\n",
    "    bias_gradients = []\n",
    "\n",
    "    for W, f_prime, a_current, a_prev in zip(\n",
    "        reversed(weights),\n",
    "        reversed(activations_derivatives),\n",
    "        reversed(layer_states[1:]),\n",
    "        reversed(layer_states[:-1]),\n",
    "    ):\n",
    "        activated_state_cotangent = current_cotangent\n",
    "        plus_bias_state_cotangent = activated_state_cotangent * f_prime(a_current)\n",
    "\n",
    "        bias_grad = np.sum(plus_bias_state_cotangent, axis=0)\n",
    "\n",
    "        state_cotangent = plus_bias_state_cotangent\n",
    "\n",
    "        prev_activated_state_cotangent = state_cotangent @ W.T"
   ]
  },
  {
   "cell_type": "code",
   "execution_count": null,
   "metadata": {},
   "outputs": [],
   "source": []
  }
 ],
 "metadata": {
  "kernelspec": {
   "display_name": "base",
   "language": "python",
   "name": "python3"
  },
  "language_info": {
   "codemirror_mode": {
    "name": "ipython",
    "version": 3
   },
   "file_extension": ".py",
   "mimetype": "text/x-python",
   "name": "python",
   "nbconvert_exporter": "python",
   "pygments_lexer": "ipython3",
   "version": "3.10.9"
  },
  "orig_nbformat": 4,
  "vscode": {
   "interpreter": {
    "hash": "265371ff1b98b9f4eaa16d44fb1eb5bb5e02f4557e1c68186d1d500959ccd159"
   }
  }
 },
 "nbformat": 4,
 "nbformat_minor": 2
}
